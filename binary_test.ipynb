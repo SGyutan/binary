{
 "metadata": {
  "language_info": {
   "codemirror_mode": {
    "name": "ipython",
    "version": 3
   },
   "file_extension": ".py",
   "mimetype": "text/x-python",
   "name": "python",
   "nbconvert_exporter": "python",
   "pygments_lexer": "ipython3",
   "version": "3.7.6-final"
  },
  "orig_nbformat": 2,
  "kernelspec": {
   "name": "python_defaultSpec_1600734047107",
   "display_name": "Python 3.7.6 64-bit ('base': conda)"
  }
 },
 "nbformat": 4,
 "nbformat_minor": 2,
 "cells": [
  {
   "cell_type": "code",
   "execution_count": null,
   "metadata": {},
   "outputs": [],
   "source": [
    "# binary example\n",
    "# binary expression\n"
   ]
  },
  {
   "cell_type": "code",
   "execution_count": 2,
   "metadata": {
    "tags": []
   },
   "outputs": [
    {
     "output_type": "stream",
     "name": "stdout",
     "text": "b'abcd'\n"
    }
   ],
   "source": [
    "# string to binary (Ascii)\n",
    "b_data = 'abcd'.encode()\n",
    "print(b_data)"
   ]
  },
  {
   "cell_type": "code",
   "execution_count": 10,
   "metadata": {
    "tags": []
   },
   "outputs": [
    {
     "output_type": "stream",
     "name": "stdout",
     "text": "b'abcd' <class 'bytes'>\n"
    }
   ],
   "source": [
    "b_data2 = b'abcd'\n",
    "print(b_data2,type(b_data2))"
   ]
  },
  {
   "cell_type": "code",
   "execution_count": 11,
   "metadata": {
    "tags": []
   },
   "outputs": [
    {
     "output_type": "stream",
     "name": "stdout",
     "text": "b'abcd' <class 'bytes'>\n"
    }
   ],
   "source": [
    "b_data3 = bytes('abcd'.encode())\n",
    "print(b_data3,type(b_data3))"
   ]
  },
  {
   "cell_type": "code",
   "execution_count": 12,
   "metadata": {
    "tags": []
   },
   "outputs": [
    {
     "output_type": "stream",
     "name": "stdout",
     "text": "b'abcd' <class 'bytes'>\n"
    }
   ],
   "source": [
    "b_data4 = bytes([0x61,0x62,0x63,0x64])\n",
    "print(b_data4,type(b_data4))"
   ]
  },
  {
   "cell_type": "code",
   "execution_count": 15,
   "metadata": {
    "tags": []
   },
   "outputs": [
    {
     "output_type": "stream",
     "name": "stdout",
     "text": "b'abcdabcd'\n"
    }
   ],
   "source": [
    "#bytesどうしは結合できる\n",
    "b_conb=b_data2+b_data4\n",
    "print(b_conb)"
   ]
  },
  {
   "cell_type": "code",
   "execution_count": 18,
   "metadata": {},
   "outputs": [],
   "source": [
    "with open('./b_file1.bin','wb') as f:\n",
    "    f.write(b_conb) "
   ]
  },
  {
   "source": [
    "#### Binary editorで開らく\n",
    "アスキー16進数が入っている。"
   ],
   "cell_type": "markdown",
   "metadata": {}
  },
  {
   "cell_type": "code",
   "execution_count": 19,
   "metadata": {
    "tags": []
   },
   "outputs": [
    {
     "output_type": "stream",
     "name": "stdout",
     "text": "b'abcd1234' <class 'bytes'>\n"
    }
   ],
   "source": [
    "#数値はどうなるか\n",
    "b_data5 = b'abcd1234'\n",
    "print(b_data5,type(b_data5))"
   ]
  },
  {
   "cell_type": "code",
   "execution_count": 20,
   "metadata": {},
   "outputs": [],
   "source": [
    "with open('./b_file2.bin','wb') as f:\n",
    "    f.write(b_data5) "
   ]
  },
  {
   "source": [
    "#### Binary editorで開らく\n",
    "1,2,3,4はアスキー16進数の31 32 33 34が入っている。\n",
    "あくまでも文字列"
   ],
   "cell_type": "markdown",
   "metadata": {}
  },
  {
   "cell_type": "code",
   "execution_count": 27,
   "metadata": {
    "tags": []
   },
   "outputs": [
    {
     "output_type": "stream",
     "name": "stdout",
     "text": "b'\\x01\\x02\\x03\\x04\\xff' <class 'bytes'>\n"
    }
   ],
   "source": [
    "# int to bytes\n",
    "# 0-255までの数字、それ以外はエラーになる\n",
    "b_data6 = bytes([1,2,3,4,255]) \n",
    "print(b_data6,type(b_data6))"
   ]
  },
  {
   "cell_type": "code",
   "execution_count": 33,
   "metadata": {
    "tags": []
   },
   "outputs": [
    {
     "output_type": "stream",
     "name": "stdout",
     "text": "b'\\x01\\x02\\x03\\x04\\xff' <class 'bytes'>\n"
    }
   ],
   "source": [
    "b_data7 = bytes([0x01,0x02,0x03,0x04,0xff]) \n",
    "print(b_data7,type(b_data7))"
   ]
  },
  {
   "cell_type": "code",
   "execution_count": 34,
   "metadata": {},
   "outputs": [],
   "source": [
    "with open('./b_file3.bin','wb') as f:\n",
    "    f.write(b_data6) "
   ]
  },
  {
   "cell_type": "code",
   "execution_count": 35,
   "metadata": {},
   "outputs": [
    {
     "output_type": "error",
     "ename": "SyntaxError",
     "evalue": "bytes can only contain ASCII literal characters. (<ipython-input-35-1ccfe5a68640>, line 2)",
     "traceback": [
      "\u001b[1;36m  File \u001b[1;32m\"<ipython-input-35-1ccfe5a68640>\"\u001b[1;36m, line \u001b[1;32m2\u001b[0m\n\u001b[1;33m    b_data8 = b'あいう'\u001b[0m\n\u001b[1;37m             ^\u001b[0m\n\u001b[1;31mSyntaxError\u001b[0m\u001b[1;31m:\u001b[0m bytes can only contain ASCII literal characters.\n"
     ]
    }
   ],
   "source": [
    "#string to binary (日本語)\n",
    "b_data8 = b'あいう'\n",
    "print(d_data8)"
   ]
  },
  {
   "cell_type": "code",
   "execution_count": 1,
   "metadata": {
    "tags": []
   },
   "outputs": [
    {
     "output_type": "stream",
     "name": "stdout",
     "text": "b'\\xe3\\x81\\x82\\xe3\\x81\\x84\\xe3\\x81\\x86'\n"
    }
   ],
   "source": [
    "#　encodeはUTF-8\n",
    "#https://ferret-plus.com/7006\n",
    "#https://gihyo.jp/admin/serial/01/charcode/0004\n",
    "b_data9 = 'あいう'.encode('utf-8')\n",
    "print(b_data9)"
   ]
  },
  {
   "cell_type": "code",
   "execution_count": 2,
   "metadata": {
    "tags": []
   },
   "outputs": [
    {
     "output_type": "stream",
     "name": "stdout",
     "text": "b'\\xff\\xfeB0D0F0'\n"
    }
   ],
   "source": [
    "b_data10 = 'あいう'.encode('utf-16')\n",
    "print(b_data10)"
   ]
  },
  {
   "cell_type": "code",
   "execution_count": 3,
   "metadata": {},
   "outputs": [],
   "source": [
    "with open('./b_file4.bin','wb') as f:\n",
    "    f.write(b_data9+b_data10) "
   ]
  },
  {
   "cell_type": "code",
   "execution_count": null,
   "metadata": {},
   "outputs": [],
   "source": [
    "# 数値to Bytes\n",
    "# 1Byteでは、整数255以外の数値は扱うことができない。\n",
    "# そこで、いくつかのバイトを束にして数値を扱うことになる。\n",
    "#　バイトを束にした時に、どのような順番で1Byteの数値をならべるかがLittleIndiaanとBigendianである。"
   ]
  }
 ]
}